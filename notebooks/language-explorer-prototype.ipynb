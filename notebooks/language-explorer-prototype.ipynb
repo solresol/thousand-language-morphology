{
 "cells": [
  {
   "cell_type": "code",
   "execution_count": 213,
   "metadata": {},
   "outputs": [],
   "source": [
    "%matplotlib inline\n",
    "import matplotlib.pyplot\n",
    "import numpy\n",
    "import os\n",
    "import math\n",
    "import string\n",
    "import json\n",
    "import pandas\n",
    "import scipy\n",
    "import scipy.spatial\n",
    "import tqdm\n",
    "import networkx\n",
    "import random\n",
    "import sklearn.linear_model\n",
    "import psycopg2\n",
    "import configparser\n",
    "import sqlalchemy\n",
    "import umap\n",
    "import seaborn"
   ]
  },
  {
   "cell_type": "code",
   "execution_count": 33,
   "metadata": {},
   "outputs": [],
   "source": [
    "config = configparser.ConfigParser()\n",
    "config.read('../db.conf')\n",
    "dbname = config['database']['dbname']\n",
    "user = config['database']['user']\n",
    "password = config['database']['password']\n",
    "host = config['database']['host']\n",
    "port = config['database']['port']\n",
    "conn = psycopg2.connect(f'dbname={dbname} user={user} password={password} host={host} port={port}')\n",
    "read_cursor = conn.cursor()\n",
    "stats_cursor = conn.cursor()"
   ]
  },
  {
   "cell_type": "code",
   "execution_count": 34,
   "metadata": {},
   "outputs": [],
   "source": [
    "engine = sqlalchemy.create_engine(\n",
    "    f\"postgresql+psycopg2://{user}:{password}@{host}:5432/{dbname}\")"
   ]
  },
  {
   "cell_type": "code",
   "execution_count": 186,
   "metadata": {},
   "outputs": [],
   "source": [
    "language_names = pandas.read_sql(\"select * from wikidata_iso639_codes\", engine)\n",
    "language_name_lookup = language_names.set_index('iso_639_3_code').language_name.to_dict()"
   ]
  },
  {
   "cell_type": "code",
   "execution_count": 207,
   "metadata": {},
   "outputs": [],
   "source": [
    "language_orthography = pandas.read_sql(\"select * from language_orthography\", engine)\n",
    "orthography_lookup = language_orthography.set_index('iso_639_3_code').best_tokenisation_method.to_dict()"
   ]
  },
  {
   "cell_type": "code",
   "execution_count": 200,
   "metadata": {},
   "outputs": [],
   "source": [
    "#CORR_TO_USE = 'log_confidence_correlation'\n",
    "CORR_TO_USE = 'confidence_spearman_correlation'"
   ]
  },
  {
   "cell_type": "code",
   "execution_count": 210,
   "metadata": {},
   "outputs": [
    {
     "name": "stdout",
     "output_type": "stream",
     "text": [
      "CPU times: user 4.99 s, sys: 1.44 s, total: 6.43 s\n",
      "Wall time: 2min 54s\n"
     ]
    }
   ],
   "source": [
    "%%time\n",
    "distances = pandas.read_sql(f\"\"\"\n",
    "  select language1, language2, {CORR_TO_USE}, tokenisation_method_id\n",
    "    from language_pairing_links join language_orthography as l1 on (language1 = l1.iso_639_3_code)\n",
    "                                join language_orthography as l2 on (language2 = l2.iso_639_3_code)\n",
    "   where l1.best_tokenisation_method = l2.best_tokenisation_method\n",
    "     and l1.best_tokenisation_method = language_pairing_links.tokenisation_method_id\n",
    "     and l2.best_tokenisation_method = language_pairing_links.tokenisation_method_id\n",
    "  \"\"\", engine)"
   ]
  },
  {
   "cell_type": "code",
   "execution_count": 214,
   "metadata": {},
   "outputs": [
    {
     "data": {
      "text/plain": [
       "<AxesSubplot:xlabel='confidence_spearman_correlation', ylabel='Count'>"
      ]
     },
     "execution_count": 214,
     "metadata": {},
     "output_type": "execute_result"
    },
    {
     "data": {
      "image/png": "[encoded data removed]",
      "text/plain": [
       "<Figure size 432x288 with 1 Axes>"
      ]
     },
     "metadata": {
      "needs_background": "light"
     },
     "output_type": "display_data"
    }
   ],
   "source": [
    "seaborn.histplot(data=distances, x=CORR_TO_USE, hue='tokenisation_method_id')"
   ]
  },
  {
   "cell_type": "code",
   "execution_count": 215,
   "metadata": {},
   "outputs": [
    {
     "data": {
      "text/html": [
       "<div>\n",
       "<style scoped>\n",
       "    .dataframe tbody tr th:only-of-type {\n",
       "        vertical-align: middle;\n",
       "    }\n",
       "\n",
       "    .dataframe tbody tr th {\n",
       "        vertical-align: top;\n",
       "    }\n",
       "\n",
       "    .dataframe thead th {\n",
       "        text-align: right;\n",
       "    }\n",
       "</style>\n",
       "<table border=\"1\" class=\"dataframe\">\n",
       "  <thead>\n",
       "    <tr style=\"text-align: right;\">\n",
       "      <th></th>\n",
       "      <th>language1</th>\n",
       "      <th>language2</th>\n",
       "      <th>confidence_spearman_correlation</th>\n",
       "      <th>tokenisation_method_id</th>\n",
       "    </tr>\n",
       "  </thead>\n",
       "  <tbody>\n",
       "    <tr>\n",
       "      <th>1428676</th>\n",
       "      <td>nre</td>\n",
       "      <td>nhr</td>\n",
       "      <td>0.407973</td>\n",
       "      <td>unigram</td>\n",
       "    </tr>\n",
       "    <tr>\n",
       "      <th>1829702</th>\n",
       "      <td>bov</td>\n",
       "      <td>kjb</td>\n",
       "      <td>0.430566</td>\n",
       "      <td>unigram</td>\n",
       "    </tr>\n",
       "    <tr>\n",
       "      <th>2231389</th>\n",
       "      <td>gor</td>\n",
       "      <td>sat</td>\n",
       "      <td>0.495779</td>\n",
       "      <td>unigram</td>\n",
       "    </tr>\n",
       "  </tbody>\n",
       "</table>\n",
       "</div>"
      ],
      "text/plain": [
       "        language1 language2  confidence_spearman_correlation  \\\n",
       "1428676       nre       nhr                         0.407973   \n",
       "1829702       bov       kjb                         0.430566   \n",
       "2231389       gor       sat                         0.495779   \n",
       "\n",
       "        tokenisation_method_id  \n",
       "1428676                unigram  \n",
       "1829702                unigram  \n",
       "2231389                unigram  "
      ]
     },
     "execution_count": 215,
     "metadata": {},
     "output_type": "execute_result"
    }
   ],
   "source": [
    "distances.sample(3)"
   ]
  },
  {
   "cell_type": "code",
   "execution_count": 218,
   "metadata": {},
   "outputs": [
    {
     "name": "stdout",
     "output_type": "stream",
     "text": [
      "CPU times: user 3.36 s, sys: 500 ms, total: 3.86 s\n",
      "Wall time: 3.88 s\n"
     ]
    }
   ],
   "source": [
    "%%time\n",
    "look_up_corr_score = distances.set_index(['language1', 'language2'])[CORR_TO_USE].to_dict()"
   ]
  },
  {
   "cell_type": "code",
   "execution_count": 219,
   "metadata": {},
   "outputs": [],
   "source": [
    "def neighbours(language1, recursion=1, nearby_count=5, except_for=[]):\n",
    "    #extra_constraint = (~distances.language2.isin(except_for))\n",
    "    extra_constraint = ~distances.language2.isin([])\n",
    "    one_step = distances[(distances.language1 == language1) &\n",
    "                          extra_constraint &\n",
    "                         (distances.language2 != language1)\n",
    "                        ].nlargest(nearby_count, CORR_TO_USE).language2\n",
    "    answer = [(language1, x, look_up_corr_score[(language1, x)]) for x in one_step]\n",
    "    if recursion == 1:\n",
    "        return answer\n",
    "    known_so_far = set(one_step)\n",
    "    known_so_far.update([language1])\n",
    "    for n in one_step:\n",
    "        answer += neighbours(n, recursion-1, nearby_count//2 if nearby_count > 3 else 2, except_for=known_so_far)\n",
    "    return answer"
   ]
  },
  {
   "cell_type": "code",
   "execution_count": 220,
   "metadata": {},
   "outputs": [],
   "source": [
    "import jinja2\n",
    "html_page = jinja2.Template(\"\"\"<!DOCTYPE html>\n",
    "<html>\n",
    "  <head>\n",
    "    <title>{{official_name}}</title>\n",
    "    <script type=\"text/javascript\" src=\"https://d3js.org/d3.v4.min.js\"></script>\n",
    "    <script type=\"text/javascript\">var JSON_FILE=\"{{json_file}}\";</script>\n",
    "    <link type=\"text/css\" rel=\"stylesheet\" href=\"force.css\"/>\n",
    "  </head>\n",
    "  <body>\n",
    "    <svg width=\"960\" height=\"600\"\n",
    "    xmlns=\"http://www.w3.org/2000/svg\"\n",
    "    xmlns:xlink=\"http://www.w3.org/1999/xlink\"></svg>\n",
    "    <script type=\"text/javascript\" src=\"force.js\"></script>\n",
    "  </body>\n",
    "</html>\n",
    "\"\"\")"
   ]
  },
  {
   "cell_type": "code",
   "execution_count": 221,
   "metadata": {},
   "outputs": [
    {
     "name": "stderr",
     "output_type": "stream",
     "text": [
      "nut: 100%|████████████████████████████████| 1497/1497 [5:56:02<00:00, 14.27s/it]\n"
     ]
    }
   ],
   "source": [
    "os.makedirs(\"dynamic_files\", exist_ok=True)\n",
    "\n",
    "def array2color(arr):\n",
    "    r = int(255 * arr[0])\n",
    "    g = int(255 * arr[1])\n",
    "    b = int(255 * arr[2])\n",
    "    return \"#%02x%02x%02x\" % (r,g,b)\n",
    "\n",
    "iterator = tqdm.tqdm(distances.language1.unique())\n",
    "for language in iterator:\n",
    "    iterator.set_description(language)\n",
    "    z = networkx.Graph()\n",
    "    for (l1, l2, weight) in neighbours(language, recursion=3, nearby_count=8):\n",
    "        z.add_edge(l1, l2, weight=10 ** weight, title=f\"Highest correlation seen between {l1} and {l2} is {weight}\")\n",
    "        nodelist = z.nodes()\n",
    "    nodesizes = [1000 if n == language else 200 for n in nodelist]\n",
    "    centrality = pandas.Series(networkx.eigenvector_centrality(z, max_iter=5000))\n",
    "    how_central = (centrality / centrality.max()).to_dict()\n",
    "    nodecolors = numpy.array([(1.0,0.6,0.1) if n == language \n",
    "                              else \n",
    "                              (0.4, how_central[n], 0.8)\n",
    "                               for n in nodelist])\n",
    "    node_size_lookup = {n: s for (n,s) in zip(nodelist, nodesizes)}\n",
    "    node_colour_lookup = {n: array2color(c) for (n,c) in zip(nodelist, nodecolors)}\n",
    "    for n in z:\n",
    "        z.nodes[n][\"name\"] = language_name_lookup.get(n,n)\n",
    "        z.nodes[n][\"color\"] = node_colour_lookup[n]\n",
    "        z.nodes[n][\"size\"] = node_size_lookup[n]\n",
    "    with open(f\"dynamic_files/{language}.json\", 'w') as f:\n",
    "        json.dump(networkx.readwrite.json_graph.node_link_data(z), f, indent=4, sort_keys=True)"
   ]
  },
  {
   "cell_type": "code",
   "execution_count": 205,
   "metadata": {},
   "outputs": [
    {
     "name": "stderr",
     "output_type": "stream",
     "text": [
      "100%|█████████████████████████████████████| 1504/1504 [00:00<00:00, 8729.84it/s]\n"
     ]
    }
   ],
   "source": [
    "iterator = tqdm.tqdm(distances.language1.unique())\n",
    "for language in iterator:\n",
    "    with open(f\"dynamic_files/{language}.html\", 'w') as f:\n",
    "        f.write(html_page.render({ \"official_name\": language,\n",
    "                     \"json_file\": f'{language}.json'}))"
   ]
  },
  {
   "cell_type": "code",
   "execution_count": 228,
   "metadata": {},
   "outputs": [],
   "source": [
    "index_template = jinja2.Template(\"\"\"<!doctype html>\n",
    "<html lang=\"en\">\n",
    "<HEAD>\n",
    "<TITLE>Language Explorer</TITLE>\n",
    "<link href=\"https://cdn.jsdelivr.net/npm/bootstrap@5.1.1/dist/css/bootstrap.min.css\" rel=\"stylesheet\" integrity=\"sha384-F3w7mX95PdgyTmZZMECAngseQB83DfGTowi0iMjiWaeVhAn4FJkqJByhZMI3AhiU\" crossorigin=\"anonymous\">\n",
    "<meta name=\"viewport\" content=\"width=device-width, initial-scale=1\">\n",
    "</HEAD>\n",
    "<BODY>\n",
    "<div class=\"container\">\n",
    "    <header class=\"d-flex flex-wrap justify-content-center py-3 mb-4 border-bottom\">\n",
    "      <a href=\"/\" class=\"d-flex align-items-center mb-3 mb-md-0 me-md-auto text-dark text-decoration-none\">\n",
    "        <svg class=\"bi me-2\" width=\"40\" height=\"32\"><use xlink:href=\"#bootstrap\"></use></svg>\n",
    "        <span class=\"fs-4\">LEAFTOP Language Explorer</span>\n",
    "      </a>\n",
    "    </header>\n",
    "  </div>\n",
    "<main class=\"bd-content order-1 py-5\" id=\"content\">\n",
    "<h1 class=\"bd-title mt-0\">What is this?</h1>\n",
    "<p>\n",
    "You are looking at the first draft of an idea Greg Baker had as he was creating the LEAFTOP dataset.\n",
    "The LEAFTOP data set is an automatically extracted set of around 300 nouns that can be derived from bible\n",
    "translations automatically. (The real number is actually higher than this, but this is all that Greg's code\n",
    "can do at the moment.) For each extracted noun, it is possible to calculate a confidence score -- how\n",
    "much more likely this word is to be a good translation than the next nearest possibility.\n",
    "</p>\n",
    "<p>\n",
    "Taking that a bit further, we can then do a Spearman correlation on the confidence scores between two \n",
    "languages. Very similar languages will pose similar problems for translators (or be similarly easy on \n",
    "some words and concepts) so languages that are similar should have high Spearman correlation scores.\n",
    "Languages that are highly dissimilar should have low Spearman correlation scores.\n",
    "</p>\n",
    "<p>\n",
    "Since it is really boring just looking at correlation scores, Greg decided to make an interactive\n",
    "explorer. Each language is connected to the 8 languages with which it has the highest correlation.\n",
    "Those 8 are then connected to the 4 that they are most correlated with, and then each of those gets 2.\n",
    "But since these aren't exclusive, a tight bundle of languages can occur with not many languages.\n",
    "</p>\n",
    "<h2>What can I do with it?</h2>\n",
    "<p>\n",
    "You can waste time while you are supposed to working on your linguistics PhD. You can try to\n",
    "disprove the nostratic hypothesis by finding links between Quechuan and Russian. You can see if this\n",
    "data matches up with your latest theory about connections between African languages. You can suggest\n",
    "feature improvements to Greg (gregory.baker2 is the username, and the domain is <tt>hdr.mq.edu.au</tt>).\n",
    "You can cite this as part of your research so that we can make this explorer respectable enough to become\n",
    "something you give to your undergraduate students.\n",
    "</p>\n",
    "<h2>But this is obviously wrong! Everyone knows that language X and language Y aren't related</h2>\n",
    "<p>\n",
    "No doubt this will happen, particularly where language X is in a country that was first evangelised\n",
    "by speakers of language Y because a data set of nouns from the bible is going to have a lot of loan\n",
    "words from language Y for precisely the specific vocabulary that is in the bible that wasn't previously\n",
    "in language X. This will skew X and Y together very strongly.\n",
    "</p>\n",
    "<p>\n",
    "But the fun thing to observe is how often it is <i>right</i> even though this\n",
    "program has not been trained on any data other than bible translations. There's no model here that\n",
    "was given a family tree of Indo-European languages: it has just figured these relationships out itself.\n",
    "</p>\n",
    "\n",
    "<h2>I'm convinced. I want to play with it now</h2>\n",
    "<p>\n",
    "Pick a language from this list below. On the following page you can drag languages around or click on them.\n",
    "Have fun!\n",
    "</p>\n",
    "\n",
    "<UL>\n",
    "{% for language in languages %}\n",
    "<LI> <a href=\"{{language.link}}\">{{language.official_name}}</a> </LI>\n",
    "{% endfor %}\n",
    "</UL>\n",
    "</main>\n",
    "<script src=\"https://cdn.jsdelivr.net/npm/bootstrap@5.1.1/dist/js/bootstrap.bundle.min.js\" integrity=\"sha384-/bQdsTh/da6pkI1MST/rWKFNjaCP5gBSY4sEBT38Q/9RBh9AH40zEOg7Hlq2THRZ\" crossorigin=\"anonymous\"></script>\n",
    "\n",
    "</BODY>\n",
    "</HEAD>\n",
    "</HTML>\"\"\")\n",
    "language_list = pandas.DataFrame({'iso_code': s})\n",
    "\n",
    "with open(\"dynamic_files/index.html\", \"w\") as f:\n",
    "    f.write(index_template.render({\"languages\": [ {'link': s + \".html\", \"official_name\": language_name_lookup.get(s,s)} for \n",
    "                                s in distances.language1.unique()]\n",
    "                      }))"
   ]
  },
  {
   "cell_type": "code",
   "execution_count": 197,
   "metadata": {},
   "outputs": [
    {
     "data": {
      "text/plain": [
       "[('eng', 'spa', 0.8849110267002417),\n",
       " ('eng', 'por_pt', 0.8733196903437987),\n",
       " ('eng', 'ita', 0.869791399382965),\n",
       " ('eng', 'fra', 0.8687220541397171),\n",
       " ('eng', 'por', 0.8659536870779138),\n",
       " ('eng', 'lzh', 0.8625264344119388),\n",
       " ('eng', 'hil', 0.8582612198380382),\n",
       " ('spa', 'spa_es', 0.9986647053726339),\n",
       " ('spa', 'por_pt', 0.9134349710366844),\n",
       " ('spa', 'por', 0.9053317581310819),\n",
       " ('por_pt', 'por', 0.9698838315957667),\n",
       " ('por_pt', 'spa', 0.9134349710366847),\n",
       " ('por_pt', 'fra', 0.8862836321499629),\n",
       " ('ita', 'por', 0.8865163318682352),\n",
       " ('ita', 'fra', 0.8844360899280804),\n",
       " ('ita', 'eng', 0.869791399382965),\n",
       " ('fra', 'por', 0.898288867518548),\n",
       " ('fra', 'por_pt', 0.8862836321499635),\n",
       " ('fra', 'ita', 0.8844360899280804),\n",
       " ('por', 'por_pt', 0.9698838315957669),\n",
       " ('por', 'spa', 0.9053317581310819),\n",
       " ('por', 'fra', 0.8982888675185474),\n",
       " ('lzh', 'khm', 1.0),\n",
       " ('lzh', 'zho_tw', 1.0),\n",
       " ('lzh', 'kxz', 0.999551081755334),\n",
       " ('hil', 'jpn', 0.878230773038548),\n",
       " ('hil', 'tgl', 0.8653359438308327),\n",
       " ('hil', 'ceb', 0.8597054463457998)]"
      ]
     },
     "execution_count": 197,
     "metadata": {},
     "output_type": "execute_result"
    }
   ],
   "source": [
    "neighbours('eng', recursion=2, nearby_count=7)"
   ]
  },
  {
   "cell_type": "code",
   "execution_count": 176,
   "metadata": {},
   "outputs": [
    {
     "data": {
      "text/plain": [
       "[('aak', 'enx', 0.5560258818415591),\n",
       " ('aak', 'lzh', 0.554731935165787),\n",
       " ('aak', 'mau', 0.5480464006005851),\n",
       " ('aak', 'snc', 0.5393871600260184),\n",
       " ('aak', 'niy', 0.5334603971129647),\n",
       " ('enx', 'viv', 0.6797039050487006),\n",
       " ('enx', 'war', 0.6785469693925654),\n",
       " ('enx', 'mbt', 0.6753502042606672),\n",
       " ('enx', 'spa_es', 0.6716956887696952),\n",
       " ('enx', 'tuv', 0.6639791425183936),\n",
       " ('lzh', 'khm', 1.0),\n",
       " ('lzh', 'zho_tw', 1.0),\n",
       " ('lzh', 'kxz', 0.999551081755334),\n",
       " ('lzh', 'kjs', 0.9969012878266019),\n",
       " ('lzh', 'guz', 0.9940755232678529),\n",
       " ('mau', 'ktu', 0.6633308415224259),\n",
       " ('mau', 'czt', 0.6415537082416648),\n",
       " ('mau', 'maa', 0.6352984370016546),\n",
       " ('mau', 'jpn', 0.6270398261064063),\n",
       " ('mau', 'mzh', 0.6238928697405985),\n",
       " ('snc', 'khz', 0.7976135310196648),\n",
       " ('snc', 'mti', 0.7353260817427177),\n",
       " ('snc', 'erg', 0.7143188666614481),\n",
       " ('snc', 'nwi', 0.7076602825461248),\n",
       " ('snc', 'eri', 0.706166780781963),\n",
       " ('niy', 'nuq', 0.7166488960211121),\n",
       " ('niy', 'tml', 0.6990789004154034),\n",
       " ('niy', 'spa', 0.691906821119601),\n",
       " ('niy', 'war', 0.6900003362836077),\n",
       " ('niy', 'crs', 0.6898172784330961)]"
      ]
     },
     "execution_count": 176,
     "metadata": {},
     "output_type": "execute_result"
    }
   ],
   "source": [
    "neighbours('aak', recursion=2, nearby_count=5)"
   ]
  },
  {
   "cell_type": "code",
   "execution_count": 153,
   "metadata": {},
   "outputs": [
    {
     "data": {
      "text/plain": [
       "{'weight': 8.19284938593291}"
      ]
     },
     "execution_count": 153,
     "metadata": {},
     "output_type": "execute_result"
    }
   ],
   "source": [
    "graph['spa']['por_pt']"
   ]
  },
  {
   "cell_type": "code",
   "execution_count": null,
   "metadata": {},
   "outputs": [],
   "source": []
  },
  {
   "cell_type": "code",
   "execution_count": null,
   "metadata": {},
   "outputs": [],
   "source": []
  },
  {
   "cell_type": "markdown",
   "metadata": {},
   "source": [
    "# Global Centrality"
   ]
  },
  {
   "cell_type": "code",
   "execution_count": 229,
   "metadata": {},
   "outputs": [
    {
     "name": "stdout",
     "output_type": "stream",
     "text": [
      "CPU times: user 3.28 s, sys: 598 ms, total: 3.87 s\n",
      "Wall time: 4.78 s\n"
     ]
    }
   ],
   "source": [
    "%%time\n",
    "graph = networkx.Graph()\n",
    "for l1, l2, v in zip(distances.language1, distances.language2, distances[CORR_TO_USE]):\n",
    "    if l1 <= l2:\n",
    "        continue\n",
    "    if numpy.isnan(v):\n",
    "        continue\n",
    "    weight = 10 ** v\n",
    "    distance = 10 ** (-v)\n",
    "    graph.add_edge(l1, l2, weight=weight, distance=distance)"
   ]
  },
  {
   "cell_type": "code",
   "execution_count": 232,
   "metadata": {},
   "outputs": [
    {
     "name": "stdout",
     "output_type": "stream",
     "text": [
      "CPU times: user 10.2 s, sys: 16.5 ms, total: 10.2 s\n",
      "Wall time: 10.2 s\n"
     ]
    },
    {
     "data": {
      "text/plain": [
       "shn    0.003109\n",
       "nod    0.005352\n",
       "bod    0.008630\n",
       "zho    0.010401\n",
       "tha    0.012327\n",
       "         ...   \n",
       "deu    0.033916\n",
       "swh    0.034308\n",
       "fra    0.034421\n",
       "por    0.034673\n",
       "spa    0.035012\n",
       "Length: 1497, dtype: float64"
      ]
     },
     "execution_count": 232,
     "metadata": {},
     "output_type": "execute_result"
    }
   ],
   "source": [
    "%%time\n",
    "centres = pandas.Series(networkx.eigenvector_centrality(graph, weight='weight', max_iter=1000))\n",
    "centres.sort_values()"
   ]
  },
  {
   "cell_type": "code",
   "execution_count": 231,
   "metadata": {},
   "outputs": [
    {
     "data": {
      "text/plain": [
       "spa       0.035012\n",
       "por       0.034673\n",
       "fra       0.034421\n",
       "swh       0.034308\n",
       "deu       0.033916\n",
       "hil       0.033741\n",
       "ell       0.033463\n",
       "suk       0.033268\n",
       "por_pt    0.033257\n",
       "eng       0.033136\n",
       "spa_es    0.033114\n",
       "nld       0.033105\n",
       "tum       0.032992\n",
       "bxk       0.032924\n",
       "kik       0.032855\n",
       "grc       0.032823\n",
       "ebu       0.032802\n",
       "kam       0.032627\n",
       "srp       0.032555\n",
       "ita       0.032500\n",
       "dtype: float64"
      ]
     },
     "execution_count": 231,
     "metadata": {},
     "output_type": "execute_result"
    }
   ],
   "source": [
    "centres.nlargest(20)"
   ]
  },
  {
   "cell_type": "code",
   "execution_count": null,
   "metadata": {},
   "outputs": [],
   "source": []
  },
  {
   "cell_type": "code",
   "execution_count": null,
   "metadata": {},
   "outputs": [],
   "source": []
  },
  {
   "cell_type": "code",
   "execution_count": 109,
   "metadata": {},
   "outputs": [
    {
     "data": {
      "text/html": [
       "<div>\n",
       "<style scoped>\n",
       "    .dataframe tbody tr th:only-of-type {\n",
       "        vertical-align: middle;\n",
       "    }\n",
       "\n",
       "    .dataframe tbody tr th {\n",
       "        vertical-align: top;\n",
       "    }\n",
       "\n",
       "    .dataframe thead th {\n",
       "        text-align: right;\n",
       "    }\n",
       "</style>\n",
       "<table border=\"1\" class=\"dataframe\">\n",
       "  <thead>\n",
       "    <tr style=\"text-align: right;\">\n",
       "      <th></th>\n",
       "      <th>language1</th>\n",
       "      <th>language2</th>\n",
       "      <th>tokenisation_method_id</th>\n",
       "      <th>confidence_correlation</th>\n",
       "      <th>log_confidence_correlation</th>\n",
       "      <th>confidence_spearman_correlation</th>\n",
       "    </tr>\n",
       "  </thead>\n",
       "  <tbody>\n",
       "    <tr>\n",
       "      <th>102343</th>\n",
       "      <td>aon</td>\n",
       "      <td>ape</td>\n",
       "      <td>unigram</td>\n",
       "      <td>1.0</td>\n",
       "      <td>1.0</td>\n",
       "      <td>1.00000</td>\n",
       "    </tr>\n",
       "    <tr>\n",
       "      <th>106852</th>\n",
       "      <td>ape</td>\n",
       "      <td>aon</td>\n",
       "      <td>unigram</td>\n",
       "      <td>1.0</td>\n",
       "      <td>1.0</td>\n",
       "      <td>1.00000</td>\n",
       "    </tr>\n",
       "    <tr>\n",
       "      <th>903155</th>\n",
       "      <td>khm</td>\n",
       "      <td>lzh</td>\n",
       "      <td>unigram</td>\n",
       "      <td>1.0</td>\n",
       "      <td>1.0</td>\n",
       "      <td>0.54037</td>\n",
       "    </tr>\n",
       "    <tr>\n",
       "      <th>934614</th>\n",
       "      <td>kma</td>\n",
       "      <td>kmy</td>\n",
       "      <td>unigram</td>\n",
       "      <td>1.0</td>\n",
       "      <td>1.0</td>\n",
       "      <td>1.00000</td>\n",
       "    </tr>\n",
       "    <tr>\n",
       "      <th>948141</th>\n",
       "      <td>kmy</td>\n",
       "      <td>kma</td>\n",
       "      <td>unigram</td>\n",
       "      <td>1.0</td>\n",
       "      <td>1.0</td>\n",
       "      <td>1.00000</td>\n",
       "    </tr>\n",
       "    <tr>\n",
       "      <th>1136120</th>\n",
       "      <td>lzh</td>\n",
       "      <td>khm</td>\n",
       "      <td>unigram</td>\n",
       "      <td>1.0</td>\n",
       "      <td>1.0</td>\n",
       "      <td>0.54037</td>\n",
       "    </tr>\n",
       "    <tr>\n",
       "      <th>1136999</th>\n",
       "      <td>lzh</td>\n",
       "      <td>zho_tw</td>\n",
       "      <td>unigram</td>\n",
       "      <td>1.0</td>\n",
       "      <td>1.0</td>\n",
       "      <td>1.00000</td>\n",
       "    </tr>\n",
       "    <tr>\n",
       "      <th>2225171</th>\n",
       "      <td>zho_tw</td>\n",
       "      <td>lzh</td>\n",
       "      <td>unigram</td>\n",
       "      <td>1.0</td>\n",
       "      <td>1.0</td>\n",
       "      <td>1.00000</td>\n",
       "    </tr>\n",
       "  </tbody>\n",
       "</table>\n",
       "</div>"
      ],
      "text/plain": [
       "        language1 language2 tokenisation_method_id  confidence_correlation  \\\n",
       "102343        aon       ape                unigram                     1.0   \n",
       "106852        ape       aon                unigram                     1.0   \n",
       "903155        khm       lzh                unigram                     1.0   \n",
       "934614        kma       kmy                unigram                     1.0   \n",
       "948141        kmy       kma                unigram                     1.0   \n",
       "1136120       lzh       khm                unigram                     1.0   \n",
       "1136999       lzh    zho_tw                unigram                     1.0   \n",
       "2225171    zho_tw       lzh                unigram                     1.0   \n",
       "\n",
       "         log_confidence_correlation  confidence_spearman_correlation  \n",
       "102343                          1.0                          1.00000  \n",
       "106852                          1.0                          1.00000  \n",
       "903155                          1.0                          0.54037  \n",
       "934614                          1.0                          1.00000  \n",
       "948141                          1.0                          1.00000  \n",
       "1136120                         1.0                          0.54037  \n",
       "1136999                         1.0                          1.00000  \n",
       "2225171                         1.0                          1.00000  "
      ]
     },
     "execution_count": 109,
     "metadata": {},
     "output_type": "execute_result"
    }
   ],
   "source": [
    "distances[(distances.log_confidence_correlation == 1) &\n",
    "         (distances.language1 != distances.language2)]"
   ]
  },
  {
   "cell_type": "code",
   "execution_count": null,
   "metadata": {},
   "outputs": [],
   "source": []
  },
  {
   "cell_type": "markdown",
   "metadata": {},
   "source": [
    "# UMAP"
   ]
  },
  {
   "cell_type": "code",
   "execution_count": null,
   "metadata": {},
   "outputs": [],
   "source": [
    "# I'm not sure if this is helpful or useful any more. It's a partitioned graph now; each tokenisation\n",
    "# method ends up separate.\n",
    "algo_fail_languages = ['nod', 'tha', 'khm', 'lzh']"
   ]
  },
  {
   "cell_type": "code",
   "execution_count": 110,
   "metadata": {},
   "outputs": [
    {
     "name": "stdout",
     "output_type": "stream",
     "text": [
      "CPU times: user 1.16 s, sys: 256 ms, total: 1.42 s\n",
      "Wall time: 1.43 s\n"
     ]
    },
    {
     "data": {
      "text/html": [
       "<div>\n",
       "<style scoped>\n",
       "    .dataframe tbody tr th:only-of-type {\n",
       "        vertical-align: middle;\n",
       "    }\n",
       "\n",
       "    .dataframe tbody tr th {\n",
       "        vertical-align: top;\n",
       "    }\n",
       "\n",
       "    .dataframe thead th {\n",
       "        text-align: right;\n",
       "    }\n",
       "</style>\n",
       "<table border=\"1\" class=\"dataframe\">\n",
       "  <thead>\n",
       "    <tr style=\"text-align: right;\">\n",
       "      <th>language2</th>\n",
       "      <th>aai</th>\n",
       "      <th>aak</th>\n",
       "      <th>aau</th>\n",
       "      <th>aaz</th>\n",
       "      <th>abn</th>\n",
       "      <th>abp</th>\n",
       "      <th>abs</th>\n",
       "      <th>abt</th>\n",
       "      <th>abx</th>\n",
       "      <th>aby</th>\n",
       "      <th>...</th>\n",
       "      <th>zpu</th>\n",
       "      <th>zpv</th>\n",
       "      <th>zpz</th>\n",
       "      <th>zrs</th>\n",
       "      <th>zsr</th>\n",
       "      <th>ztq</th>\n",
       "      <th>zty</th>\n",
       "      <th>zul</th>\n",
       "      <th>zyb</th>\n",
       "      <th>zyp</th>\n",
       "    </tr>\n",
       "    <tr>\n",
       "      <th>language1</th>\n",
       "      <th></th>\n",
       "      <th></th>\n",
       "      <th></th>\n",
       "      <th></th>\n",
       "      <th></th>\n",
       "      <th></th>\n",
       "      <th></th>\n",
       "      <th></th>\n",
       "      <th></th>\n",
       "      <th></th>\n",
       "      <th></th>\n",
       "      <th></th>\n",
       "      <th></th>\n",
       "      <th></th>\n",
       "      <th></th>\n",
       "      <th></th>\n",
       "      <th></th>\n",
       "      <th></th>\n",
       "      <th></th>\n",
       "      <th></th>\n",
       "      <th></th>\n",
       "    </tr>\n",
       "  </thead>\n",
       "  <tbody>\n",
       "    <tr>\n",
       "      <th>suc</th>\n",
       "      <td>3.191070</td>\n",
       "      <td>2.565196</td>\n",
       "      <td>3.530592</td>\n",
       "      <td>2.802384</td>\n",
       "      <td>3.813672</td>\n",
       "      <td>4.278403</td>\n",
       "      <td>3.080067</td>\n",
       "      <td>3.035675</td>\n",
       "      <td>3.667756</td>\n",
       "      <td>2.369942</td>\n",
       "      <td>...</td>\n",
       "      <td>2.484901</td>\n",
       "      <td>3.061091</td>\n",
       "      <td>2.735724</td>\n",
       "      <td>2.503435</td>\n",
       "      <td>2.939298</td>\n",
       "      <td>2.969868</td>\n",
       "      <td>2.626312</td>\n",
       "      <td>2.326941</td>\n",
       "      <td>4.077458</td>\n",
       "      <td>3.691225</td>\n",
       "    </tr>\n",
       "    <tr>\n",
       "      <th>dww</th>\n",
       "      <td>2.913529</td>\n",
       "      <td>2.857280</td>\n",
       "      <td>2.872194</td>\n",
       "      <td>2.253013</td>\n",
       "      <td>2.872882</td>\n",
       "      <td>2.888626</td>\n",
       "      <td>2.324228</td>\n",
       "      <td>2.744174</td>\n",
       "      <td>2.553367</td>\n",
       "      <td>2.325520</td>\n",
       "      <td>...</td>\n",
       "      <td>2.172608</td>\n",
       "      <td>3.088412</td>\n",
       "      <td>2.641811</td>\n",
       "      <td>2.144960</td>\n",
       "      <td>2.098090</td>\n",
       "      <td>2.804382</td>\n",
       "      <td>2.130477</td>\n",
       "      <td>2.600070</td>\n",
       "      <td>2.411811</td>\n",
       "      <td>2.850061</td>\n",
       "    </tr>\n",
       "    <tr>\n",
       "      <th>okr</th>\n",
       "      <td>3.429769</td>\n",
       "      <td>2.732256</td>\n",
       "      <td>3.792087</td>\n",
       "      <td>3.223027</td>\n",
       "      <td>3.631194</td>\n",
       "      <td>3.650869</td>\n",
       "      <td>3.375398</td>\n",
       "      <td>2.819762</td>\n",
       "      <td>3.720763</td>\n",
       "      <td>2.566084</td>\n",
       "      <td>...</td>\n",
       "      <td>2.045437</td>\n",
       "      <td>2.755578</td>\n",
       "      <td>2.911435</td>\n",
       "      <td>2.524998</td>\n",
       "      <td>3.151180</td>\n",
       "      <td>3.199251</td>\n",
       "      <td>2.765972</td>\n",
       "      <td>2.956088</td>\n",
       "      <td>3.497414</td>\n",
       "      <td>4.004518</td>\n",
       "    </tr>\n",
       "    <tr>\n",
       "      <th>kwj</th>\n",
       "      <td>3.275730</td>\n",
       "      <td>2.809444</td>\n",
       "      <td>3.765629</td>\n",
       "      <td>3.460369</td>\n",
       "      <td>3.395112</td>\n",
       "      <td>3.497641</td>\n",
       "      <td>2.934830</td>\n",
       "      <td>3.451041</td>\n",
       "      <td>3.130614</td>\n",
       "      <td>2.753456</td>\n",
       "      <td>...</td>\n",
       "      <td>2.038845</td>\n",
       "      <td>3.137661</td>\n",
       "      <td>2.359086</td>\n",
       "      <td>2.315173</td>\n",
       "      <td>3.446081</td>\n",
       "      <td>2.994946</td>\n",
       "      <td>2.600350</td>\n",
       "      <td>2.761526</td>\n",
       "      <td>3.263855</td>\n",
       "      <td>4.231505</td>\n",
       "    </tr>\n",
       "    <tr>\n",
       "      <th>njb</th>\n",
       "      <td>3.522748</td>\n",
       "      <td>2.974519</td>\n",
       "      <td>3.635821</td>\n",
       "      <td>2.517764</td>\n",
       "      <td>3.354466</td>\n",
       "      <td>3.235671</td>\n",
       "      <td>2.847274</td>\n",
       "      <td>2.538031</td>\n",
       "      <td>2.909487</td>\n",
       "      <td>2.376035</td>\n",
       "      <td>...</td>\n",
       "      <td>2.387535</td>\n",
       "      <td>2.857740</td>\n",
       "      <td>2.621212</td>\n",
       "      <td>2.050879</td>\n",
       "      <td>2.566824</td>\n",
       "      <td>3.310543</td>\n",
       "      <td>2.689267</td>\n",
       "      <td>2.435650</td>\n",
       "      <td>3.410656</td>\n",
       "      <td>3.754654</td>\n",
       "    </tr>\n",
       "  </tbody>\n",
       "</table>\n",
       "<p>5 rows × 1503 columns</p>\n",
       "</div>"
      ],
      "text/plain": [
       "language2       aai       aak       aau       aaz       abn       abp  \\\n",
       "language1                                                               \n",
       "suc        3.191070  2.565196  3.530592  2.802384  3.813672  4.278403   \n",
       "dww        2.913529  2.857280  2.872194  2.253013  2.872882  2.888626   \n",
       "okr        3.429769  2.732256  3.792087  3.223027  3.631194  3.650869   \n",
       "kwj        3.275730  2.809444  3.765629  3.460369  3.395112  3.497641   \n",
       "njb        3.522748  2.974519  3.635821  2.517764  3.354466  3.235671   \n",
       "\n",
       "language2       abs       abt       abx       aby  ...       zpu       zpv  \\\n",
       "language1                                          ...                       \n",
       "suc        3.080067  3.035675  3.667756  2.369942  ...  2.484901  3.061091   \n",
       "dww        2.324228  2.744174  2.553367  2.325520  ...  2.172608  3.088412   \n",
       "okr        3.375398  2.819762  3.720763  2.566084  ...  2.045437  2.755578   \n",
       "kwj        2.934830  3.451041  3.130614  2.753456  ...  2.038845  3.137661   \n",
       "njb        2.847274  2.538031  2.909487  2.376035  ...  2.387535  2.857740   \n",
       "\n",
       "language2       zpz       zrs       zsr       ztq       zty       zul  \\\n",
       "language1                                                               \n",
       "suc        2.735724  2.503435  2.939298  2.969868  2.626312  2.326941   \n",
       "dww        2.641811  2.144960  2.098090  2.804382  2.130477  2.600070   \n",
       "okr        2.911435  2.524998  3.151180  3.199251  2.765972  2.956088   \n",
       "kwj        2.359086  2.315173  3.446081  2.994946  2.600350  2.761526   \n",
       "njb        2.621212  2.050879  2.566824  3.310543  2.689267  2.435650   \n",
       "\n",
       "language2       zyb       zyp  \n",
       "language1                      \n",
       "suc        4.077458  3.691225  \n",
       "dww        2.411811  2.850061  \n",
       "okr        3.497414  4.004518  \n",
       "kwj        3.263855  4.231505  \n",
       "njb        3.410656  3.754654  \n",
       "\n",
       "[5 rows x 1503 columns]"
      ]
     },
     "execution_count": 110,
     "metadata": {},
     "output_type": "execute_result"
    }
   ],
   "source": [
    "%%time\n",
    "lcc_square = distances[distances.tokenisation_method_id == 'unigram'].pivot_table(\n",
    "                index='language1', columns='language2', values='log_confidence_correlation'\n",
    "                                  ).apply(lambda x: 10**x)\n",
    "lcc_square.sample(5)"
   ]
  },
  {
   "cell_type": "code",
   "execution_count": 111,
   "metadata": {},
   "outputs": [],
   "source": [
    "\n",
    "ok_languages = [x for x in lcc_square.columns if x not in algo_fail_languages]\n",
    "lcc_square = lcc_square[lcc_square.index.isin(ok_languages)][ok_languages]"
   ]
  },
  {
   "cell_type": "code",
   "execution_count": 112,
   "metadata": {},
   "outputs": [
    {
     "name": "stdout",
     "output_type": "stream",
     "text": [
      "CPU times: user 14.4 s, sys: 11.5 ms, total: 14.4 s\n",
      "Wall time: 14.4 s\n"
     ]
    },
    {
     "data": {
      "text/html": [
       "<div>\n",
       "<style scoped>\n",
       "    .dataframe tbody tr th:only-of-type {\n",
       "        vertical-align: middle;\n",
       "    }\n",
       "\n",
       "    .dataframe tbody tr th {\n",
       "        vertical-align: top;\n",
       "    }\n",
       "\n",
       "    .dataframe thead th {\n",
       "        text-align: right;\n",
       "    }\n",
       "</style>\n",
       "<table border=\"1\" class=\"dataframe\">\n",
       "  <thead>\n",
       "    <tr style=\"text-align: right;\">\n",
       "      <th></th>\n",
       "    </tr>\n",
       "  </thead>\n",
       "  <tbody>\n",
       "  </tbody>\n",
       "</table>\n",
       "</div>"
      ],
      "text/plain": [
       "Empty DataFrame\n",
       "Columns: []\n",
       "Index: []"
      ]
     },
     "execution_count": 112,
     "metadata": {},
     "output_type": "execute_result"
    }
   ],
   "source": [
    "%%time\n",
    "problems = []\n",
    "for l1 in lcc_square.index:\n",
    "    for l2 in lcc_square.columns:\n",
    "        if numpy.isnan(lcc_square.loc[l1,l2]):\n",
    "            problems.append({'language1': l1, 'language2': l2})\n",
    "problems = pandas.DataFrame.from_records(problems)\n",
    "problems"
   ]
  },
  {
   "cell_type": "code",
   "execution_count": 113,
   "metadata": {},
   "outputs": [
    {
     "data": {
      "text/plain": [
       "False"
      ]
     },
     "execution_count": 113,
     "metadata": {},
     "output_type": "execute_result"
    }
   ],
   "source": [
    "lcc_square.isnull().any().any()"
   ]
  },
  {
   "cell_type": "code",
   "execution_count": null,
   "metadata": {},
   "outputs": [],
   "source": []
  },
  {
   "cell_type": "code",
   "execution_count": null,
   "metadata": {},
   "outputs": [],
   "source": []
  },
  {
   "cell_type": "code",
   "execution_count": 132,
   "metadata": {},
   "outputs": [
    {
     "name": "stderr",
     "output_type": "stream",
     "text": [
      "/Users/gregb/opt/anaconda3/lib/python3.8/site-packages/umap/umap_.py:1735: UserWarning: using precomputed metric; transform will be unavailable for new data and inverse_transform will be unavailable for all data\n",
      "  warn(\n"
     ]
    }
   ],
   "source": [
    "reducer = umap.UMAP(metric='precomputed', min_dist=0.00001, spread=1)\n",
    "positions = reducer.fit_transform(lcc_square)"
   ]
  },
  {
   "cell_type": "code",
   "execution_count": 133,
   "metadata": {},
   "outputs": [
    {
     "data": {
      "text/plain": [
       "array([[4.6953297, 8.9290085],\n",
       "       [4.6069336, 7.3606315],\n",
       "       [1.5075219, 6.89601  ],\n",
       "       ...,\n",
       "       [2.9246387, 8.328711 ],\n",
       "       [2.7667935, 8.095144 ],\n",
       "       [2.5014267, 8.136664 ]], dtype=float32)"
      ]
     },
     "execution_count": 133,
     "metadata": {},
     "output_type": "execute_result"
    }
   ],
   "source": [
    "positions"
   ]
  },
  {
   "cell_type": "code",
   "execution_count": 134,
   "metadata": {},
   "outputs": [
    {
     "data": {
      "text/plain": [
       "<AxesSubplot:xlabel='x', ylabel='y'>"
      ]
     },
     "execution_count": 134,
     "metadata": {},
     "output_type": "execute_result"
    },
    {
     "data": {
      "image/png": "[encoded data removed]",
      "text/plain": [
       "<Figure size 1440x1440 with 1 Axes>"
      ]
     },
     "metadata": {
      "needs_background": "light"
     },
     "output_type": "display_data"
    }
   ],
   "source": [
    "positions_frame = pandas.DataFrame(data=positions, columns=['x', 'y'])\n",
    "positions_frame.plot.scatter(x='x', y='y', figsize=(20,20))"
   ]
  },
  {
   "cell_type": "code",
   "execution_count": null,
   "metadata": {},
   "outputs": [],
   "source": []
  },
  {
   "cell_type": "code",
   "execution_count": null,
   "metadata": {},
   "outputs": [],
   "source": []
  },
  {
   "cell_type": "code",
   "execution_count": 6,
   "metadata": {},
   "outputs": [
    {
     "data": {
      "text/html": [
       "<div>\n",
       "<style scoped>\n",
       "    .dataframe tbody tr th:only-of-type {\n",
       "        vertical-align: middle;\n",
       "    }\n",
       "\n",
       "    .dataframe tbody tr th {\n",
       "        vertical-align: top;\n",
       "    }\n",
       "\n",
       "    .dataframe thead th {\n",
       "        text-align: right;\n",
       "    }\n",
       "</style>\n",
       "<table border=\"1\" class=\"dataframe\">\n",
       "  <thead>\n",
       "    <tr style=\"text-align: right;\">\n",
       "      <th></th>\n",
       "      <th>language1</th>\n",
       "      <th>language2</th>\n",
       "      <th>tokenisation_method_id</th>\n",
       "      <th>confidence_correlation</th>\n",
       "      <th>log_confidence_correlation</th>\n",
       "      <th>confidence_spearman_correlation</th>\n",
       "    </tr>\n",
       "  </thead>\n",
       "  <tbody>\n",
       "    <tr>\n",
       "      <th>226110</th>\n",
       "      <td>bhw</td>\n",
       "      <td>idu</td>\n",
       "      <td>unigram</td>\n",
       "      <td>0.353656</td>\n",
       "      <td>0.452406</td>\n",
       "      <td>0.437539</td>\n",
       "    </tr>\n",
       "    <tr>\n",
       "      <th>523509</th>\n",
       "      <td>duo</td>\n",
       "      <td>bbk</td>\n",
       "      <td>unigram</td>\n",
       "      <td>0.456196</td>\n",
       "      <td>0.432734</td>\n",
       "      <td>0.398663</td>\n",
       "    </tr>\n",
       "    <tr>\n",
       "      <th>1771433</th>\n",
       "      <td>set</td>\n",
       "      <td>ssg</td>\n",
       "      <td>unigram</td>\n",
       "      <td>0.362236</td>\n",
       "      <td>0.360237</td>\n",
       "      <td>0.433989</td>\n",
       "    </tr>\n",
       "    <tr>\n",
       "      <th>516623</th>\n",
       "      <td>dso</td>\n",
       "      <td>lus</td>\n",
       "      <td>unigram</td>\n",
       "      <td>0.315704</td>\n",
       "      <td>0.410311</td>\n",
       "      <td>0.389037</td>\n",
       "    </tr>\n",
       "    <tr>\n",
       "      <th>1499321</th>\n",
       "      <td>nre</td>\n",
       "      <td>tum</td>\n",
       "      <td>unigram</td>\n",
       "      <td>0.613991</td>\n",
       "      <td>0.595503</td>\n",
       "      <td>0.484173</td>\n",
       "    </tr>\n",
       "  </tbody>\n",
       "</table>\n",
       "</div>"
      ],
      "text/plain": [
       "        language1 language2 tokenisation_method_id  confidence_correlation  \\\n",
       "226110        bhw       idu                unigram                0.353656   \n",
       "523509        duo       bbk                unigram                0.456196   \n",
       "1771433       set       ssg                unigram                0.362236   \n",
       "516623        dso       lus                unigram                0.315704   \n",
       "1499321       nre       tum                unigram                0.613991   \n",
       "\n",
       "         log_confidence_correlation  confidence_spearman_correlation  \n",
       "226110                     0.452406                         0.437539  \n",
       "523509                     0.432734                         0.398663  \n",
       "1771433                    0.360237                         0.433989  \n",
       "516623                     0.410311                         0.389037  \n",
       "1499321                    0.595503                         0.484173  "
      ]
     },
     "execution_count": 6,
     "metadata": {},
     "output_type": "execute_result"
    }
   ],
   "source": [
    "distances.sample(5)"
   ]
  },
  {
   "cell_type": "code",
   "execution_count": 10,
   "metadata": {},
   "outputs": [
    {
     "data": {
      "text/plain": [
       "<AxesSubplot:ylabel='Frequency'>"
      ]
     },
     "execution_count": 10,
     "metadata": {},
     "output_type": "execute_result"
    },
    {
     "data": {
      "image/png": "[encoded data removed]",
      "text/plain": [
       "<Figure size 432x288 with 1 Axes>"
      ]
     },
     "metadata": {
      "needs_background": "light"
     },
     "output_type": "display_data"
    }
   ],
   "source": [
    "distances.confidence_spearman_correlation.plot.hist(bins=100)"
   ]
  },
  {
   "cell_type": "code",
   "execution_count": 12,
   "metadata": {},
   "outputs": [
    {
     "data": {
      "text/html": [
       "<div>\n",
       "<style scoped>\n",
       "    .dataframe tbody tr th:only-of-type {\n",
       "        vertical-align: middle;\n",
       "    }\n",
       "\n",
       "    .dataframe tbody tr th {\n",
       "        vertical-align: top;\n",
       "    }\n",
       "\n",
       "    .dataframe thead th {\n",
       "        text-align: right;\n",
       "    }\n",
       "</style>\n",
       "<table border=\"1\" class=\"dataframe\">\n",
       "  <thead>\n",
       "    <tr style=\"text-align: right;\">\n",
       "      <th></th>\n",
       "      <th>confidence_correlation</th>\n",
       "      <th>log_confidence_correlation</th>\n",
       "      <th>confidence_spearman_correlation</th>\n",
       "    </tr>\n",
       "  </thead>\n",
       "  <tbody>\n",
       "    <tr>\n",
       "      <th>count</th>\n",
       "      <td>2.250036e+06</td>\n",
       "      <td>2.250036e+06</td>\n",
       "      <td>2.262016e+06</td>\n",
       "    </tr>\n",
       "    <tr>\n",
       "      <th>mean</th>\n",
       "      <td>4.097199e-01</td>\n",
       "      <td>4.398263e-01</td>\n",
       "      <td>4.354088e-01</td>\n",
       "    </tr>\n",
       "    <tr>\n",
       "      <th>std</th>\n",
       "      <td>1.210604e-01</td>\n",
       "      <td>9.976508e-02</td>\n",
       "      <td>1.075134e-01</td>\n",
       "    </tr>\n",
       "    <tr>\n",
       "      <th>min</th>\n",
       "      <td>-2.317645e-01</td>\n",
       "      <td>-2.877859e-01</td>\n",
       "      <td>-7.034683e-01</td>\n",
       "    </tr>\n",
       "    <tr>\n",
       "      <th>25%</th>\n",
       "      <td>3.279929e-01</td>\n",
       "      <td>3.792591e-01</td>\n",
       "      <td>3.845476e-01</td>\n",
       "    </tr>\n",
       "    <tr>\n",
       "      <th>50%</th>\n",
       "      <td>4.090599e-01</td>\n",
       "      <td>4.432296e-01</td>\n",
       "      <td>4.449689e-01</td>\n",
       "    </tr>\n",
       "    <tr>\n",
       "      <th>75%</th>\n",
       "      <td>4.922048e-01</td>\n",
       "      <td>5.055188e-01</td>\n",
       "      <td>5.002335e-01</td>\n",
       "    </tr>\n",
       "    <tr>\n",
       "      <th>max</th>\n",
       "      <td>1.000000e+00</td>\n",
       "      <td>1.000000e+00</td>\n",
       "      <td>1.000000e+00</td>\n",
       "    </tr>\n",
       "  </tbody>\n",
       "</table>\n",
       "</div>"
      ],
      "text/plain": [
       "       confidence_correlation  log_confidence_correlation  \\\n",
       "count            2.250036e+06                2.250036e+06   \n",
       "mean             4.097199e-01                4.398263e-01   \n",
       "std              1.210604e-01                9.976508e-02   \n",
       "min             -2.317645e-01               -2.877859e-01   \n",
       "25%              3.279929e-01                3.792591e-01   \n",
       "50%              4.090599e-01                4.432296e-01   \n",
       "75%              4.922048e-01                5.055188e-01   \n",
       "max              1.000000e+00                1.000000e+00   \n",
       "\n",
       "       confidence_spearman_correlation  \n",
       "count                     2.262016e+06  \n",
       "mean                      4.354088e-01  \n",
       "std                       1.075134e-01  \n",
       "min                      -7.034683e-01  \n",
       "25%                       3.845476e-01  \n",
       "50%                       4.449689e-01  \n",
       "75%                       5.002335e-01  \n",
       "max                       1.000000e+00  "
      ]
     },
     "execution_count": 12,
     "metadata": {},
     "output_type": "execute_result"
    }
   ],
   "source": [
    "distances.describe()"
   ]
  },
  {
   "cell_type": "code",
   "execution_count": null,
   "metadata": {},
   "outputs": [],
   "source": []
  },
  {
   "cell_type": "code",
   "execution_count": null,
   "metadata": {},
   "outputs": [],
   "source": []
  },
  {
   "cell_type": "code",
   "execution_count": 12,
   "metadata": {},
   "outputs": [],
   "source": [
    "def correlation_stats(language):\n",
    "    cache_file = f\".cache/{language}.csv\"\n",
    "    if os.path.exists(cache_file):\n",
    "        return pandas.read_csv(cache_file, index_col='language')\n",
    "    os.makedirs(\".cache\", exist_ok=True)\n",
    "    stats_cursor.execute(\"\"\"\n",
    "    select b2.language, \n",
    "           max(confidence_correlation), \n",
    "           max(log_confidence_correlation), \n",
    "           max(confidence_spearman_correlation) \n",
    "      from vocabulary_extraction_correlations join bible_versions as b1 on (bible_version_id1 = b1.version_id) \n",
    "                                              join bible_versions as b2 on (bible_version_id2 = b2.version_id)\n",
    "     where b1.language = %s\n",
    "       and tokenisation_method_id = 'unigram'\n",
    "  group by b2.language\"\"\", [language])\n",
    "    answer = pandas.DataFrame.from_records([\n",
    "        {'language': row[0], 'confidence_correlation': row[1], 'log_confidence_correlation': row[2],\n",
    "        'confidence_spearman_correlation': row[3]}\n",
    "        for row in stats_cursor\n",
    "    ])\n",
    "    answer.to_csv(cache_file, index=False)\n",
    "    answer.set_index('language', inplace=True)\n",
    "    return answer"
   ]
  },
  {
   "cell_type": "code",
   "execution_count": 13,
   "metadata": {},
   "outputs": [
    {
     "ename": "DiskFull",
     "evalue": "could not write to file \"base/pgsql_tmp/pgsql_tmp80521.18\": No space left on device\n",
     "output_type": "error",
     "traceback": [
      "\u001b[0;31m---------------------------------------------------------------------------\u001b[0m",
      "\u001b[0;31mDiskFull\u001b[0m                                  Traceback (most recent call last)",
      "\u001b[0;32m/var/folders/s9/qjnh_3gd73d2l2wy70bcdplh0000gn/T/ipykernel_46261/216393013.py\u001b[0m in \u001b[0;36m<module>\u001b[0;34m\u001b[0m\n\u001b[0;32m----> 1\u001b[0;31m \u001b[0mcorrelation_stats\u001b[0m\u001b[0;34m(\u001b[0m\u001b[0;34m'spa'\u001b[0m\u001b[0;34m)\u001b[0m\u001b[0;34m\u001b[0m\u001b[0;34m\u001b[0m\u001b[0m\n\u001b[0m",
      "\u001b[0;32m/var/folders/s9/qjnh_3gd73d2l2wy70bcdplh0000gn/T/ipykernel_46261/2847577834.py\u001b[0m in \u001b[0;36mcorrelation_stats\u001b[0;34m(language)\u001b[0m\n\u001b[1;32m      4\u001b[0m         \u001b[0;32mreturn\u001b[0m \u001b[0mpandas\u001b[0m\u001b[0;34m.\u001b[0m\u001b[0mread_csv\u001b[0m\u001b[0;34m(\u001b[0m\u001b[0mcache_file\u001b[0m\u001b[0;34m,\u001b[0m \u001b[0mindex_col\u001b[0m\u001b[0;34m=\u001b[0m\u001b[0;34m'language'\u001b[0m\u001b[0;34m)\u001b[0m\u001b[0;34m\u001b[0m\u001b[0;34m\u001b[0m\u001b[0m\n\u001b[1;32m      5\u001b[0m     \u001b[0mos\u001b[0m\u001b[0;34m.\u001b[0m\u001b[0mmakedirs\u001b[0m\u001b[0;34m(\u001b[0m\u001b[0;34m\".cache\"\u001b[0m\u001b[0;34m,\u001b[0m \u001b[0mexist_ok\u001b[0m\u001b[0;34m=\u001b[0m\u001b[0;32mTrue\u001b[0m\u001b[0;34m)\u001b[0m\u001b[0;34m\u001b[0m\u001b[0;34m\u001b[0m\u001b[0m\n\u001b[0;32m----> 6\u001b[0;31m     stats_cursor.execute(\"\"\"\n\u001b[0m\u001b[1;32m      7\u001b[0m     \u001b[0mselect\u001b[0m \u001b[0mb2\u001b[0m\u001b[0;34m.\u001b[0m\u001b[0mlanguage\u001b[0m\u001b[0;34m,\u001b[0m\u001b[0;34m\u001b[0m\u001b[0;34m\u001b[0m\u001b[0m\n\u001b[1;32m      8\u001b[0m            \u001b[0mmax\u001b[0m\u001b[0;34m(\u001b[0m\u001b[0mconfidence_correlation\u001b[0m\u001b[0;34m)\u001b[0m\u001b[0;34m,\u001b[0m\u001b[0;34m\u001b[0m\u001b[0;34m\u001b[0m\u001b[0m\n",
      "\u001b[0;31mDiskFull\u001b[0m: could not write to file \"base/pgsql_tmp/pgsql_tmp80521.18\": No space left on device\n"
     ]
    }
   ],
   "source": [
    "%%time\n",
    "correlation_stats('spa')"
   ]
  },
  {
   "cell_type": "code",
   "execution_count": null,
   "metadata": {},
   "outputs": [],
   "source": [
    "%%time\n",
    "correlation_stats('fra')"
   ]
  },
  {
   "cell_type": "code",
   "execution_count": null,
   "metadata": {},
   "outputs": [],
   "source": [
    "read_cursor.execute(\"\"\"\n",
    "  select distinct language from bible_versions where version_worth_fetching\n",
    "  \"\"\")\n",
    "languages = [x[0] for x in read_cursor]\n",
    "for language in tqdm.tqdm(languages):\n",
    "    correlation_stats(language)"
   ]
  },
  {
   "cell_type": "code",
   "execution_count": null,
   "metadata": {},
   "outputs": [],
   "source": [
    "graph = networkx.Graph()\n",
    "for language in tqdm.tqdm(languages):\n",
    "    df = correlation_stats(language)\n",
    "    for other_language, corr_value in zip(df.language, df.log_confidence_correlation):\n",
    "        graph.add_edge(language, other_language, weight=corr_value)"
   ]
  },
  {
   "cell_type": "code",
   "execution_count": null,
   "metadata": {},
   "outputs": [],
   "source": [
    "%%time\n",
    "centrality = pandas.Series(networkx.eigenvector_centrality_numpy(graph, weight='weight')).sort_values()\n",
    "centrality"
   ]
  },
  {
   "cell_type": "code",
   "execution_count": null,
   "metadata": {},
   "outputs": [],
   "source": [
    "pandas.Series({x: graph['swe'][x]['weight'] for x in graph['swe']}).sort_values().head(10)"
   ]
  },
  {
   "cell_type": "code",
   "execution_count": 16,
   "metadata": {},
   "outputs": [],
   "source": [
    "import jinja2\n",
    "html_page = jinja2.Template(\"\"\"<!DOCTYPE html>\n",
    "<html>\n",
    "  <head>\n",
    "    <title>{{official_name}}</title>\n",
    "    <script type=\"text/javascript\" src=\"https://d3js.org/d3.v4.min.js\"></script>\n",
    "    <script type=\"text/javascript\">var JSON_FILE=\"{{json_file}}\";</script>\n",
    "    <link type=\"text/css\" rel=\"stylesheet\" href=\"force.css\"/>\n",
    "  </head>\n",
    "  <body>\n",
    "    <svg width=\"960\" height=\"600\"\n",
    "    xmlns=\"http://www.w3.org/2000/svg\"\n",
    "    xmlns:xlink=\"http://www.w3.org/1999/xlink\"></svg>\n",
    "    <script type=\"text/javascript\" src=\"force.js\"></script>\n",
    "  </body>\n",
    "</html>\n",
    "\"\"\")\n",
    "\n"
   ]
  },
  {
   "cell_type": "code",
   "execution_count": 25,
   "metadata": {},
   "outputs": [],
   "source": [
    "def extend_graph(graph, out_from_node):\n",
    "    existing_languages = list(graph)\n",
    "    avoid_terms = \", \".join(\"%s\" * len(existing_languages))\n",
    "    avoid_clause = f\" and language not in ({avoid_terms})\"\n",
    "    if len(existing_languages) == 0:\n",
    "        avoid_clause = ''\n",
    "    sql = \"\"\"\n",
    "select language, max(mann_whitney_pvalue) as max_mann_whitney_pvalue\n",
    "from vocabulary_pairing_tests join bible_versions on (bible_version_id2 = version_id)\n",
    "where bible_version_id1 = %s \"\"\" + avoid_clause + \"\"\"\n",
    "group by language\n",
    "order by max_mann_whitney_pvalue desc limit 5\n",
    "\"\"\"\n",
    "    print(sql)\n",
    "    read_cursor.execute(sql, [out_from_node] + existing_languages)\n",
    "    added_languages = []\n",
    "    for language, pvalue in read_cursor:\n",
    "        graph.add_edge(out_from_node, language, weight=  )\n",
    "        added_languages.append(language)\n",
    "    return added_languages"
   ]
  },
  {
   "cell_type": "code",
   "execution_count": 26,
   "metadata": {},
   "outputs": [],
   "source": [
    "conn.rollback()"
   ]
  },
  {
   "cell_type": "code",
   "execution_count": 27,
   "metadata": {},
   "outputs": [
    {
     "name": "stdout",
     "output_type": "stream",
     "text": [
      "\n",
      "select language, max(mann_whitney_pvalue) as max_mann_whitney_pvalue\n",
      "from vocabulary_pairing_tests join bible_versions on (bible_version_id2 = version_id)\n",
      "where bible_version_id1 = %s \n",
      "group by language\n",
      "order by max_mann_whitney_pvalue desc limit 5\n",
      "\n"
     ]
    },
    {
     "ename": "InvalidTextRepresentation",
     "evalue": "invalid input syntax for type integer: \"eng\"\nLINE 4: where bible_version_id1 = 'eng' \n                                  ^\n",
     "output_type": "error",
     "traceback": [
      "\u001b[0;31m---------------------------------------------------------------------------\u001b[0m",
      "\u001b[0;31mInvalidTextRepresentation\u001b[0m                 Traceback (most recent call last)",
      "\u001b[0;32m/var/folders/s9/qjnh_3gd73d2l2wy70bcdplh0000gn/T/ipykernel_38676/1742366902.py\u001b[0m in \u001b[0;36m<module>\u001b[0;34m\u001b[0m\n\u001b[1;32m      1\u001b[0m \u001b[0mg1\u001b[0m \u001b[0;34m=\u001b[0m \u001b[0mnetworkx\u001b[0m\u001b[0;34m.\u001b[0m\u001b[0mGraph\u001b[0m\u001b[0;34m(\u001b[0m\u001b[0;34m)\u001b[0m\u001b[0;34m\u001b[0m\u001b[0;34m\u001b[0m\u001b[0m\n\u001b[0;32m----> 2\u001b[0;31m \u001b[0mextend_graph\u001b[0m\u001b[0;34m(\u001b[0m\u001b[0mg1\u001b[0m\u001b[0;34m,\u001b[0m \u001b[0;34m'eng'\u001b[0m\u001b[0;34m)\u001b[0m\u001b[0;34m\u001b[0m\u001b[0;34m\u001b[0m\u001b[0m\n\u001b[0m",
      "\u001b[0;32m/var/folders/s9/qjnh_3gd73d2l2wy70bcdplh0000gn/T/ipykernel_38676/1244926925.py\u001b[0m in \u001b[0;36mextend_graph\u001b[0;34m(graph, out_from_node)\u001b[0m\n\u001b[1;32m     13\u001b[0m \"\"\"\n\u001b[1;32m     14\u001b[0m     \u001b[0mprint\u001b[0m\u001b[0;34m(\u001b[0m\u001b[0msql\u001b[0m\u001b[0;34m)\u001b[0m\u001b[0;34m\u001b[0m\u001b[0;34m\u001b[0m\u001b[0m\n\u001b[0;32m---> 15\u001b[0;31m     \u001b[0mread_cursor\u001b[0m\u001b[0;34m.\u001b[0m\u001b[0mexecute\u001b[0m\u001b[0;34m(\u001b[0m\u001b[0msql\u001b[0m\u001b[0;34m,\u001b[0m \u001b[0;34m[\u001b[0m\u001b[0mout_from_node\u001b[0m\u001b[0;34m]\u001b[0m \u001b[0;34m+\u001b[0m \u001b[0mexisting_languages\u001b[0m\u001b[0;34m)\u001b[0m\u001b[0;34m\u001b[0m\u001b[0;34m\u001b[0m\u001b[0m\n\u001b[0m\u001b[1;32m     16\u001b[0m     \u001b[0madded_languages\u001b[0m \u001b[0;34m=\u001b[0m \u001b[0;34m[\u001b[0m\u001b[0;34m]\u001b[0m\u001b[0;34m\u001b[0m\u001b[0;34m\u001b[0m\u001b[0m\n\u001b[1;32m     17\u001b[0m     \u001b[0;32mfor\u001b[0m \u001b[0mlanguage\u001b[0m\u001b[0;34m,\u001b[0m \u001b[0mpvalue\u001b[0m \u001b[0;32min\u001b[0m \u001b[0mread_cursor\u001b[0m\u001b[0;34m:\u001b[0m\u001b[0;34m\u001b[0m\u001b[0;34m\u001b[0m\u001b[0m\n",
      "\u001b[0;31mInvalidTextRepresentation\u001b[0m: invalid input syntax for type integer: \"eng\"\nLINE 4: where bible_version_id1 = 'eng' \n                                  ^\n"
     ]
    }
   ],
   "source": [
    "g1 = networkx.Graph()\n",
    "extend_graph(g1, 'eng')"
   ]
  },
  {
   "cell_type": "code",
   "execution_count": null,
   "metadata": {},
   "outputs": [],
   "source": []
  },
  {
   "cell_type": "code",
   "execution_count": 6,
   "metadata": {},
   "outputs": [],
   "source": [
    "def make_local_graph(bible_version_id):\n",
    "    read_cursor.execute(\"select language from bible_versions where version_id = %s\", [bible_version_id])\n",
    "    language = read_cursor.fetchone()\n",
    "    if language is None:\n",
    "        raise ValueError(bible_version_id)\n",
    "    graph = networkx.Graph()\n",
    "    read_cursor.execute(\n",
    "    \"\"\")\n",
    "    languages_seen = set([language])\n",
    "    version_ids_to_extend = []\n",
    "    # One stage out languages\n",
    "    for (other_language, version_id, pvalue) in read_cursor:\n",
    "        \n",
    "        languages_seen.update([other_language])\n",
    "        version_ids_to_extend.update([(other_language, version_id)])\n",
    "    # Two stages out:\n",
    "    for extended_language, extended_version_id in version_ids_to_extend:\n",
    "        \n",
    "    read_cursor.execute(\"\"\"select version_name, bible_version_id2, mann_whitney_pvalue \n",
    "from vocabulary_pairing_tests join bible_versions on (bible_version_id2 = version_id)\n",
    "where bible_version_id1 = %s and language = %s and bible_version_id2 != bible_version_id1\n",
    "    \"\"\")\n",
    "    for (name, version_id, pvalue) in read_cursor:\n",
    "        graph.add_edge(f\"{language}-{bible_version_id}\", f\"{language}-{version_id}\", \n",
    "                       weight= 1/(1+math.log10(1/pvalue)) )\n",
    "    return graph"
   ]
  },
  {
   "cell_type": "code",
   "execution_count": 17,
   "metadata": {},
   "outputs": [],
   "source": [
    "def array2color(arr):\n",
    "    r = int(255 * arr[0])\n",
    "    g = int(255 * arr[1])\n",
    "    b = int(255 * arr[2])\n",
    "    return \"#%02x%02x%02x\" % (r,g,b)\n",
    "\n",
    "def networkx_visualise_to_d3(s, filesystem_prefix=\"\"):\n",
    "    global graph\n",
    "    #g = graph.subgraph(close_neighbours[s]).copy()\n",
    "    g = networkx.generators.ego.ego_graph(graph, s, 4).copy()\n",
    "    nodelist = list(g)\n",
    "    nodesizes = [1000 if n == s else 200 for n in nodelist]\n",
    "    centrality = pandas.Series(networkx.eigenvector_centrality(g, max_iter=5000))\n",
    "    how_central = (centrality / centrality.max()).to_dict()\n",
    "    #print(how_central)\n",
    "    nodecolors = numpy.array([(1.0,0.6,0.1) if n == s \n",
    "                              else \n",
    "                              (0.4, how_central[n], 0.8)\n",
    "                               for n in nodelist])\n",
    "    #print(nodecolors)\n",
    "    #print(seen_before)\n",
    "    #networkx.drawing.nx_pydot.write_dot(z, s + \".dot\")\n",
    "    node_size_lookup = {n: s for (n,s) in zip(nodelist, nodesizes)}\n",
    "    node_colour_lookup = {n: array2color(c) for (n,c) in zip(nodelist, nodecolors)}\n",
    "\n",
    "    d1,d2 = networkx.algorithms.shortest_paths.weighted.dijkstra_predecessor_and_distance(g, s, \n",
    "                                                                                      weight='distance')\n",
    "    most_interesting_nodes = set(pandas.Series(d2).nsmallest(25).index)\n",
    "    #most_interesting_nodes = set(centrality.nlargest(30).index)\n",
    "    most_interesting_nodes.update([s])\n",
    "    z = g.subgraph(most_interesting_nodes).copy()\n",
    "    for n in z:\n",
    "        z.nodes[n][\"name\"] = game_names_simplified[n]\n",
    "        z.nodes[n][\"color\"] = node_colour_lookup.get(n, (0.3, 0.3, 0.3))\n",
    "        z.nodes[n][\"size\"] = node_size_lookup.get(n, 10)\n",
    "        \n",
    "    json_file_on_disk = os.path.join(filesystem_prefix, s + \".json\")\n",
    "    with open(json_file_on_disk, 'w') as f:\n",
    "        json.dump(networkx.readwrite.json_graph.node_link_data(z), f, indent=4, sort_keys=True)\n",
    "    html_file_on_disk = os.path.join(filesystem_prefix, s + \".html\")\n",
    "    with open(html_file_on_disk, 'w') as f:\n",
    "        f.write(html_page.render({ \"official_name\": game_names_simplified[s],\n",
    "                     \"json_file\": s + '.json'}))\n",
    "    return g"
   ]
  },
  {
   "cell_type": "code",
   "execution_count": 18,
   "metadata": {
    "scrolled": true
   },
   "outputs": [
    {
     "name": "stderr",
     "output_type": "stream",
     "text": [
      "KEPLERTH: 100%|███████████████████████████████| 5632/5632 [09:57<00:00,  9.43it/s]\n"
     ]
    }
   ],
   "source": [
    "iterator = tqdm.tqdm(game_names_simplified.items())\n",
    "for game, full_name in iterator:\n",
    "    iterator.set_description(full_name)\n",
    "    networkx_visualise_to_d3(game, filesystem_prefix=\"dynamic_files\")"
   ]
  },
  {
   "cell_type": "code",
   "execution_count": null,
   "metadata": {},
   "outputs": [],
   "source": []
  }
 ],
 "metadata": {
  "kernelspec": {
   "display_name": "Python 3 (ipykernel)",
   "language": "python",
   "name": "python3"
  },
  "language_info": {
   "codemirror_mode": {
    "name": "ipython",
    "version": 3
   },
   "file_extension": ".py",
   "mimetype": "text/x-python",
   "name": "python",
   "nbconvert_exporter": "python",
   "pygments_lexer": "ipython3",
   "version": "3.8.5"
  }
 },
 "nbformat": 4,
 "nbformat_minor": 2
}
